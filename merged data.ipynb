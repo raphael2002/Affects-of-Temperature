{
 "cells": [
  {
   "cell_type": "code",
   "execution_count": 1,
   "metadata": {},
   "outputs": [],
   "source": [
    "import datetime\n",
    "import json\n",
    "import io\n",
    "import logging\n",
    "import numpy as np\n",
    "import pandas as pd\n",
    "import sklearn.linear_model as lm\n",
    "import sklearn.model_selection as ms\n",
    "import seaborn as sns\n",
    "import matplotlib.pyplot as plt\n",
    "from sklearn import metrics \n",
    "from sklearn.model_selection import cross_val_score\n",
    "import statsmodels.api as sm\n",
    "import statsmodels.stats.diagnostic as sms\n",
    "import scipy.stats as stats\n",
    "from scipy.stats import shapiro\n",
    "from sklearn.metrics import mean_squared_error\n",
    "from sklearn.metrics import mean_absolute_error\n",
    "from sklearn.preprocessing import PolynomialFeatures\n",
    "from sklearn.model_selection import train_test_split\n",
    "from sklearn.metrics import r2_score\n",
    "from sklearn.linear_model import LinearRegression\n",
    "from sklearn.tree import DecisionTreeRegressor\n",
    "from sklearn.ensemble import RandomForestRegressor\n",
    "from sklearn.neural_network import MLPRegressor\n",
    "\n"
   ]
  },
  {
   "cell_type": "code",
   "execution_count": 2,
   "metadata": {},
   "outputs": [],
   "source": [
    "crimes_merged = pd.read_csv('merged_file_weather+daily_counts.csv')"
   ]
  },
  {
   "cell_type": "code",
   "execution_count": 3,
   "metadata": {},
   "outputs": [],
   "source": [
    "cleaned_crimes_merged = crimes_merged.dropna()"
   ]
  },
  {
   "cell_type": "code",
   "execution_count": 4,
   "metadata": {},
   "outputs": [
    {
     "data": {
      "text/plain": [
       "<bound method NDFrame.head of         ID      Date  NumberofCrimes  Temp\n",
       "0        1  1/1/2001            1831  -9.0\n",
       "1        2  1/2/2001            1143 -11.0\n",
       "2        3  1/3/2001            1151  -8.0\n",
       "3        4  1/4/2001            1166  -4.0\n",
       "4        5  1/5/2001            1267  -1.0\n",
       "...    ...       ...             ...   ...\n",
       "8646  8647  9/3/2024             768  20.0\n",
       "8647  8648  9/4/2024             755  21.0\n",
       "8648  8649  9/5/2024             788  24.0\n",
       "8649  8650  9/6/2024             776  16.0\n",
       "8650  8651  9/7/2024             764  14.0\n",
       "\n",
       "[8651 rows x 4 columns]>"
      ]
     },
     "execution_count": 4,
     "metadata": {},
     "output_type": "execute_result"
    }
   ],
   "source": [
    "cleaned_crimes_merged.head"
   ]
  },
  {
   "cell_type": "code",
   "execution_count": 5,
   "metadata": {},
   "outputs": [
    {
     "name": "stdout",
     "output_type": "stream",
     "text": [
      "<class 'pandas.core.frame.DataFrame'>\n",
      "Index: 8651 entries, 0 to 8650\n",
      "Data columns (total 4 columns):\n",
      " #   Column          Non-Null Count  Dtype  \n",
      "---  ------          --------------  -----  \n",
      " 0   ID              8651 non-null   int64  \n",
      " 1   Date            8651 non-null   object \n",
      " 2   NumberofCrimes  8651 non-null   int64  \n",
      " 3   Temp            8651 non-null   float64\n",
      "dtypes: float64(1), int64(2), object(1)\n",
      "memory usage: 337.9+ KB\n"
     ]
    }
   ],
   "source": [
    "cleaned_crimes_merged.info()"
   ]
  },
  {
   "cell_type": "code",
   "execution_count": null,
   "metadata": {},
   "outputs": [],
   "source": [
    "#Aggregate data by season:\n",
    "cleaned_crimes_merged['Date'] = pd.to_datetime(cleaned_crimes_merged['Date'])\n",
    "cleaned_crimes_merged['Season'] = cleaned_crimes_merged['Date'].dt.month % 12 // 3 + 1  # 1: Winter, 2: Spring, 3: Summer, 4: Fall\n",
    "seasonal_data = cleaned_crimes_merged.groupby('Season').agg({'Temp': 'mean', 'NumberofCrimes': 'mean'}).reset_index()\n"
   ]
  },
  {
   "cell_type": "markdown",
   "metadata": {},
   "source": [
    "Accessing the Month:\n",
    "\n",
    "cleaned_crimes_merged['Date'].dt.month extracts the month from the 'Date' column in the cleaned_crimes_merged DataFrame. This results in a series of integers ranging from 1 (January) to 12 (December).\n",
    "Modulus Operation:\n",
    "\n",
    "% 12 ensures that the month values wrap around correctly. However, since the months are already between 1 and 12, this operation doesn't change the values.\n",
    "Integer Division:\n",
    "\n",
    "// 3 performs integer division by 3. This groups the months into four categories:\n",
    "Months 1, 2, 3 (January, February, March) -> 0\n",
    "Months 4, 5, 6 (April, May, June) -> 1\n",
    "Months 7, 8, 9 (July, August, September) -> 2\n",
    "Months 10, 11, 12 (October, November, December) -> 3\n",
    "Adding 1:\n",
    "\n",
    "+ 1 shifts the categories to start from 1 instead of 0. This results in:\n",
    "1 for Winter (January, February, March)\n",
    "2 for Spring (April, May, June)\n",
    "3 for Summer (July, August, September)\n",
    "4 for Fall (October, November, December)"
   ]
  },
  {
   "cell_type": "code",
   "execution_count": 9,
   "metadata": {},
   "outputs": [
    {
     "data": {
      "text/html": [
       "<div>\n",
       "<style scoped>\n",
       "    .dataframe tbody tr th:only-of-type {\n",
       "        vertical-align: middle;\n",
       "    }\n",
       "\n",
       "    .dataframe tbody tr th {\n",
       "        vertical-align: top;\n",
       "    }\n",
       "\n",
       "    .dataframe thead th {\n",
       "        text-align: right;\n",
       "    }\n",
       "</style>\n",
       "<table border=\"1\" class=\"dataframe\">\n",
       "  <thead>\n",
       "    <tr style=\"text-align: right;\">\n",
       "      <th></th>\n",
       "      <th>Season</th>\n",
       "      <th>Temp</th>\n",
       "      <th>NumberofCrimes</th>\n",
       "    </tr>\n",
       "  </thead>\n",
       "  <tbody>\n",
       "    <tr>\n",
       "      <th>0</th>\n",
       "      <td>1</td>\n",
       "      <td>-2.281967</td>\n",
       "      <td>848.629040</td>\n",
       "    </tr>\n",
       "    <tr>\n",
       "      <th>1</th>\n",
       "      <td>2</td>\n",
       "      <td>9.384058</td>\n",
       "      <td>936.771739</td>\n",
       "    </tr>\n",
       "    <tr>\n",
       "      <th>2</th>\n",
       "      <td>3</td>\n",
       "      <td>22.373188</td>\n",
       "      <td>1019.445652</td>\n",
       "    </tr>\n",
       "    <tr>\n",
       "      <th>3</th>\n",
       "      <td>4</td>\n",
       "      <td>11.763333</td>\n",
       "      <td>965.136190</td>\n",
       "    </tr>\n",
       "  </tbody>\n",
       "</table>\n",
       "</div>"
      ],
      "text/plain": [
       "   Season       Temp  NumberofCrimes\n",
       "0       1  -2.281967      848.629040\n",
       "1       2   9.384058      936.771739\n",
       "2       3  22.373188     1019.445652\n",
       "3       4  11.763333      965.136190"
      ]
     },
     "execution_count": 9,
     "metadata": {},
     "output_type": "execute_result"
    }
   ],
   "source": [
    "seasonal_data.head()"
   ]
  },
  {
   "cell_type": "code",
   "execution_count": 10,
   "metadata": {},
   "outputs": [
    {
     "data": {
      "image/png": "[encoded data removed]",
      "text/plain": [
       "<Figure size 1000x600 with 1 Axes>"
      ]
     },
     "metadata": {},
     "output_type": "display_data"
    }
   ],
   "source": [
    "#Plot seasonal trends:\n",
    "plt.figure(figsize=(10, 6))\n",
    "plt.plot(seasonal_data['Season'], seasonal_data['NumberofCrimes'], marker='o', linestyle='-', color='red')\n",
    "plt.title('Seasonal Crime Rate vs Temperature')\n",
    "plt.xlabel('Season (1: Winter, 2: Spring, 3: Summer, 4: Fall)')\n",
    "plt.ylabel('Average Crime Rate')\n",
    "plt.grid(True)\n",
    "plt.show()\n"
   ]
  },
  {
   "cell_type": "code",
   "execution_count": 24,
   "metadata": {},
   "outputs": [],
   "source": [
    "# Create polynomial features\n",
    "poly = PolynomialFeatures(degree=2)\n",
    "X_poly = poly.fit_transform(cleaned_crimes_merged[['Temp']])\n"
   ]
  },
  {
   "cell_type": "code",
   "execution_count": null,
   "metadata": {},
   "outputs": [],
   "source": [
    "# Add interaction terms manually\n",
    "cleaned_crimes_merged['Temp_Crime_Interaction'] = cleaned_crimes_merged['Temp'] * cleaned_crimes_merged['NumberofCrimes']\n"
   ]
  },
  {
   "cell_type": "code",
   "execution_count": 27,
   "metadata": {},
   "outputs": [],
   "source": [
    "# Combine the new features with the original data\n",
    "X = np.hstack((X_poly, cleaned_crimes_merged[['Temp_Crime_Interaction']].values))\n",
    "y = cleaned_crimes_merged['NumberofCrimes']\n"
   ]
  },
  {
   "cell_type": "code",
   "execution_count": 28,
   "metadata": {},
   "outputs": [],
   "source": [
    "# Split the data into training and testing sets\n",
    "X_train, X_test, y_train, y_test = train_test_split(X, y, test_size=0.2, random_state=42)\n"
   ]
  },
  {
   "cell_type": "code",
   "execution_count": 29,
   "metadata": {},
   "outputs": [
    {
     "name": "stdout",
     "output_type": "stream",
     "text": [
      "Decision Tree R^2 Score: 0.944383723884338\n"
     ]
    }
   ],
   "source": [
    "# Decision Tree\n",
    "dt_model = DecisionTreeRegressor()\n",
    "dt_model.fit(X_train, y_train)\n",
    "y_pred_dt = dt_model.predict(X_test)\n",
    "print(f'Decision Tree R^2 Score: {r2_score(y_test, y_pred_dt)}')\n"
   ]
  },
  {
   "cell_type": "code",
   "execution_count": 30,
   "metadata": {},
   "outputs": [
    {
     "name": "stdout",
     "output_type": "stream",
     "text": [
      "Random Forest R^2 Score: 0.9488227770332665\n"
     ]
    }
   ],
   "source": [
    "# Random Forest\n",
    "rf_model = RandomForestRegressor()\n",
    "rf_model.fit(X_train, y_train)\n",
    "y_pred_rf = rf_model.predict(X_test)\n",
    "print(f'Random Forest R^2 Score: {r2_score(y_test, y_pred_rf)}')\n"
   ]
  },
  {
   "cell_type": "code",
   "execution_count": 31,
   "metadata": {},
   "outputs": [
    {
     "name": "stdout",
     "output_type": "stream",
     "text": [
      "Neural Network R^2 Score: 0.8496132433101189\n"
     ]
    }
   ],
   "source": [
    "# Neural Network\n",
    "nn_model = MLPRegressor(hidden_layer_sizes=(100,), max_iter=1000)\n",
    "nn_model.fit(X_train, y_train)\n",
    "y_pred_nn = nn_model.predict(X_test)\n",
    "print(f'Neural Network R^2 Score: {r2_score(y_test, y_pred_nn)}')\n"
   ]
  }
 ],
 "metadata": {
  "kernelspec": {
   "display_name": "Python 3",
   "language": "python",
   "name": "python3"
  },
  "language_info": {
   "codemirror_mode": {
    "name": "ipython",
    "version": 3
   },
   "file_extension": ".py",
   "mimetype": "text/x-python",
   "name": "python",
   "nbconvert_exporter": "python",
   "pygments_lexer": "ipython3",
   "version": "3.12.2"
  }
 },
 "nbformat": 4,
 "nbformat_minor": 2
}
